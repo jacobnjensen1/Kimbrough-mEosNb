{
 "cells": [
  {
   "cell_type": "code",
   "execution_count": null,
   "id": "ebd2609b-224a-4f06-8d53-c005e88418a3",
   "metadata": {},
   "outputs": [],
   "source": [
    "import matplotlib.pyplot as plt\n",
    "import matplotlib.colors as colors\n",
    "\n",
    "#the model and pae plot in supplemental figure 1 were made in chimerax, which uses set (and not entirely standard) color schemes, but we wanted colorbars."
   ]
  },
  {
   "cell_type": "code",
   "execution_count": null,
   "id": "5286f5d5-5211-4d69-8177-77d6ff90f1c9",
   "metadata": {},
   "outputs": [],
   "source": [
    "alphafoldColors = colors.LinearSegmentedColormap.from_list(\"alphafold\", [(0, \"red\"), (0.5, \"orange\"), (0.7 ,\"yellow\"), (0.9, \"cornflowerblue\"), (1, \"blue\")])\n",
    "alphafoldColors"
   ]
  },
  {
   "cell_type": "code",
   "execution_count": null,
   "id": "2291f9ad-14b3-478b-839c-05e8f5350a3a",
   "metadata": {},
   "outputs": [],
   "source": [
    "fig = plt.Figure((3,3), dpi=300)\n",
    "ax = fig.gca()\n",
    "\n",
    "scatter = ax.scatter([0,1], [20, 20], c=[0,100], cmap=alphafoldColors)\n",
    "colorbar = plt.colorbar(scatter, ax = ax, aspect=7, orientation = \"horizontal\")\n",
    "\n",
    "# cax = colorbar.ax\n",
    "# cax.set_title(\"pLDDT\")\n",
    "\n",
    "# ax.remove()\n",
    "\n",
    "fig.tight_layout()\n",
    "# fig.savefig(\"plots/plotForAlphafoldPLDDTColors.png\")\n",
    "fig"
   ]
  },
  {
   "cell_type": "code",
   "execution_count": null,
   "id": "f9acfbbd-9446-4a4f-bd8a-91d5568fa938",
   "metadata": {},
   "outputs": [],
   "source": [
    "paegreen = colors.LinearSegmentedColormap.from_list(\"paegreen\", [(0/30, \"#1E461E\"), (5/30, \"#249224\"), (10/30 ,\"#37B137\"), (15/30, \"#56C956\"), (20/30, \"#82DD82\"), (25/30, \"#BAEFBA\"), (30/30, \"#FFFFFF\")])\n",
    "paegreen"
   ]
  },
  {
   "cell_type": "code",
   "execution_count": null,
   "id": "e48d4778-ac2a-446a-b24a-4637861cbbb6",
   "metadata": {},
   "outputs": [],
   "source": [
    "fig = plt.Figure((3,3), dpi=300)\n",
    "ax = fig.gca()\n",
    "\n",
    "scatter = ax.scatter([0,1], [20, 20], c=[0,30], cmap=paegreen)\n",
    "cax = plt.colorbar(scatter, ax = ax, aspect=15)\n",
    "\n",
    "\n",
    "fig.tight_layout()\n",
    "fig.savefig(\"plots/plotForPAEColors.png\")\n",
    "fig"
   ]
  }
 ],
 "metadata": {
  "kernelspec": {
   "display_name": "DAmFRET_clustering_env",
   "language": "python",
   "name": "damfret_clustering_env"
  },
  "language_info": {
   "codemirror_mode": {
    "name": "ipython",
    "version": 3
   },
   "file_extension": ".py",
   "mimetype": "text/x-python",
   "name": "python",
   "nbconvert_exporter": "python",
   "pygments_lexer": "ipython3",
   "version": "3.9.18"
  }
 },
 "nbformat": 4,
 "nbformat_minor": 5
}
