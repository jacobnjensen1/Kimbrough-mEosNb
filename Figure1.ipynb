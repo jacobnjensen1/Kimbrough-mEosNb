{
 "cells": [
  {
   "cell_type": "code",
   "execution_count": null,
   "id": "30c6506b-be06-4a57-a210-8dd41566501c",
   "metadata": {},
   "outputs": [],
   "source": [
    "import NanobodyPaperPlotting\n",
    "import matplotlib.pyplot as plt\n",
    "\n",
    "colors_decimal = [[120/255, 120/255, 120/255], [249/255, 29/255, 0/255], [32/255, 25/255, 250/255]]\n",
    "AmFRETLims = (-0.2, 1.0)"
   ]
  },
  {
   "cell_type": "code",
   "execution_count": null,
   "id": "b90a3a2e-f503-4d13-ac91-deb74f6a0477",
   "metadata": {},
   "outputs": [],
   "source": [
    "NBTestFiles = [(\"NbALFA\", [\"data/NBTests/B5.fcs\"]),\n",
    "              (\"mEosNb\", [\"data/NBTests/A12.fcs\"]),\n",
    "              (\"mEosNb0\", [\"data/NBTests/D7.fcs\"])]"
   ]
  },
  {
   "cell_type": "code",
   "execution_count": null,
   "id": "b6781b67-06f9-46f0-83d0-9277b6ccfbf3",
   "metadata": {},
   "outputs": [],
   "source": [
    "NBTestData = []\n",
    "for title, files in NBTestFiles:\n",
    "    data = NanobodyPaperPlotting.readDataFromFilelist(files)\n",
    "    data, _ = NanobodyPaperPlotting.gateBDFP(data, title)\n",
    "    NBTestData.append((title, data))"
   ]
  },
  {
   "cell_type": "code",
   "execution_count": null,
   "id": "7349c900-c33c-45eb-a122-463e9024f663",
   "metadata": {},
   "outputs": [],
   "source": [
    "squarePlotSize = 3\n",
    "numCols = 3\n",
    "numRows = 1\n",
    "\n",
    "DAmFRETFig = plt.Figure((squarePlotSize*numCols ,squarePlotSize*numRows), dpi=300)\n",
    "DAmFRETAxs = DAmFRETFig.subplots(numRows,numCols, subplot_kw={'projection': \"scatter_density\"})\n",
    "NanobodyPaperPlotting.DAmFRETRowFromData(NBTestData, DAmFRETAxs, addTitles=True, ylims=AmFRETLims, firstColLabelsOnly=True)\n",
    "DAmFRETFig.tight_layout()\n",
    "plt.show()\n",
    "DAmFRETFig.savefig(\"plots/NBTest_DAmFRET.png\")\n",
    "DAmFRETFig"
   ]
  }
 ],
 "metadata": {
  "kernelspec": {
   "display_name": "DAmFRET_clustering_env",
   "language": "python",
   "name": "damfret_clustering_env"
  },
  "language_info": {
   "codemirror_mode": {
    "name": "ipython",
    "version": 3
   },
   "file_extension": ".py",
   "mimetype": "text/x-python",
   "name": "python",
   "nbconvert_exporter": "python",
   "pygments_lexer": "ipython3",
   "version": "3.9.18"
  }
 },
 "nbformat": 4,
 "nbformat_minor": 5
}
