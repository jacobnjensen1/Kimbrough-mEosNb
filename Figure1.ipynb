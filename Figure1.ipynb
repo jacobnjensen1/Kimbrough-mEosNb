{
 "cells": [
  {
   "cell_type": "code",
   "execution_count": null,
   "id": "30c6506b-be06-4a57-a210-8dd41566501c",
   "metadata": {},
   "outputs": [],
   "source": [
    "import NanobodyPaperPlotting\n",
    "import matplotlib.pyplot as plt\n",
    "import fcsparser\n",
    "import numpy as np\n",
    "\n",
    "colors_decimal = [[120/255, 120/255, 120/255], [249/255, 29/255, 0/255], [32/255, 25/255, 250/255]]\n",
    "\n",
    "expressionLims = (10**0.03, 10**3) #changed for this panel\n",
    "AmFRETLims = (-0.3, 1) #changed for this panel"
   ]
  },
  {
   "cell_type": "code",
   "execution_count": null,
   "id": "b90a3a2e-f503-4d13-ac91-deb74f6a0477",
   "metadata": {},
   "outputs": [],
   "source": [
    "# NBTestFiles = [(\"Control\", [\"data/NBTests/G3.fcs\"]),\n",
    "#                (\"NbALFA\", [\"data/NBTests/B5.fcs\"]),\n",
    "#                (\"mEosNb\", [\"data/NBTests/A12.fcs\"]),\n",
    "#                (\"mEosNb0\", [\"data/NBTests/D7.fcs\"])]\n",
    "\n",
    "NBTestFiles = [(\"Control\", [\"data/NBTests/G3.fcs\"]),\n",
    "               (\"mEosNb\", [\"data/NBTests/A12.fcs\"]),\n",
    "               (\"mEosNb0\", [\"data/NBTests/D7.fcs\"]),\n",
    "               (\"NbALFA\", [\"data/NBTests/B5.fcs\"])]"
   ]
  },
  {
   "cell_type": "code",
   "execution_count": null,
   "id": "b6781b67-06f9-46f0-83d0-9277b6ccfbf3",
   "metadata": {},
   "outputs": [],
   "source": [
    "NBTestData = []\n",
    "\n",
    "#the control doesn't have BDFP, so it needs to be handled specially\n",
    "_, data = fcsparser.parse(NBTestFiles[0][1][0])\n",
    "#make both because both are useful\n",
    "data[\"Acceptor/SSC\"] = data[\"Acceptor-A\"] / data[\"SSC 488/10-A\"]\n",
    "data[\"log(Acceptor/SSC)\"] = np.log10(data[\"Acceptor/SSC\"])\n",
    "\n",
    "NBTestData.append((NBTestFiles[0][0], data))\n",
    "\n",
    "for title, files in NBTestFiles[1:]:\n",
    "    data = NanobodyPaperPlotting.readDataFromFilelist(files)\n",
    "    # data, _ = NanobodyPaperPlotting.gateBDFP(data, title) #these have already been gated for bdfp expression.\n",
    "    NBTestData.append((title, data))"
   ]
  },
  {
   "cell_type": "code",
   "execution_count": null,
   "id": "7349c900-c33c-45eb-a122-463e9024f663",
   "metadata": {},
   "outputs": [],
   "source": [
    "squarePlotSize = 3\n",
    "numCols = 4\n",
    "numRows = 1\n",
    "\n",
    "DAmFRETFig = plt.Figure((squarePlotSize*numCols ,squarePlotSize*numRows), dpi=300)\n",
    "DAmFRETAxs = DAmFRETFig.subplots(numRows,numCols, subplot_kw={'projection': \"scatter_density\"})\n",
    "NanobodyPaperPlotting.DAmFRETRowFromData(NBTestData, DAmFRETAxs, addTitles=True, ylims=AmFRETLims, firstColLabelsOnly=True, xlims=expressionLims)\n",
    "# NanobodyPaperPlotting.DAmFRETRowFromData(NBTestData, DAmFRETAxs, addTitles=True, ylims=AmFRETLims, firstColLabelsOnly=True)\n",
    "DAmFRETFig.tight_layout()\n",
    "plt.show()\n",
    "DAmFRETFig.savefig(\"plots/NBTest_DAmFRET.png\")\n",
    "DAmFRETFig"
   ]
  }
 ],
 "metadata": {
  "kernelspec": {
   "display_name": "DAmFRET_clustering_env",
   "language": "python",
   "name": "damfret_clustering_env"
  },
  "language_info": {
   "codemirror_mode": {
    "name": "ipython",
    "version": 3
   },
   "file_extension": ".py",
   "mimetype": "text/x-python",
   "name": "python",
   "nbconvert_exporter": "python",
   "pygments_lexer": "ipython3",
   "version": "3.9.18"
  }
 },
 "nbformat": 4,
 "nbformat_minor": 5
}
