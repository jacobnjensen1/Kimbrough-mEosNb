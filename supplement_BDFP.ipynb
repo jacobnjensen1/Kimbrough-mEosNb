{
 "cells": [
  {
   "cell_type": "code",
   "execution_count": null,
   "id": "9c961eef-fcf7-450c-84a3-b3228abb5335",
   "metadata": {},
   "outputs": [],
   "source": [
    "import NanobodyPaperPlotting\n",
    "import matplotlib.pyplot as plt\n",
    "import seaborn as sns\n",
    "import numpy as np\n",
    "\n",
    "AmFRETLims = (-0.2, 1)\n",
    "\n",
    "expressionLims_kde = (0.25, 3)\n",
    "expressionLims = (10**0.25, 10**3)\n",
    "BDFPPositiveBDFPSSCLims_kde = (-1, 3)\n",
    "BDFPNegativeBDFPSSCLims_kde = (-4, 1)\n",
    "\n",
    "defaultXLabel = \"mEos3 concentration (p.d.u.)\"\n",
    "defaultYLabel = \"BDFP1.6:1.6 concentration (p.d.u.)\""
   ]
  },
  {
   "cell_type": "code",
   "execution_count": null,
   "id": "f6162690-10c0-4dbb-8a2b-afebfe5ec5a2",
   "metadata": {},
   "outputs": [],
   "source": [
    "# mEos4x3912b = \"data/mEosValency/exported_plate1/A4.fcs\"\n",
    "# mEos4NB6 = \"data/mEosValency/exported_plate3/D4.fcs\"\n",
    "\n",
    "# DAmFRETFig = plt.Figure((3*3,3), dpi=300)\n",
    "# DAmFRETAxs = DAmFRETFig.subplots(1,3, subplot_kw={'projection': \"scatter_density\"})\n",
    "\n",
    "# mEos4x3912bData = NanobodyPaperPlotting.readDataToDF(mEos4x3912b, minAmFRET=-10, maxAmFRET=10, minAmFRETPercentile=0, maxAmFRETPercentile=100, minAcceptorPercentile=0, maxAcceptorPercentile=100, xAxis=\"log(Acceptor/SSC)\")\n",
    "# mEos4NB6Data = NanobodyPaperPlotting.readDataToDF(mEos4NB6, minAmFRET=-10, maxAmFRET=10, minAmFRETPercentile=0, maxAmFRETPercentile=100, minAcceptorPercentile=0, maxAcceptorPercentile=100, xAxis=\"log(Acceptor/SSC)\")\n",
    "\n",
    "\n",
    "# mEos4NB6DataLowBDFP = mEos4NB6Data[mEos4NB6Data[\"BDFP1.6-A\"] <= (10 ** lowBDFPCutoff)]\n",
    "# mEos4NB6DataHighBDFP = mEos4NB6Data[mEos4NB6Data[\"BDFP1.6-A\"] >= (10 ** highBDFPCutoff)]\n",
    "\n",
    "\n",
    "\n",
    "# NanobodyPaperPlotting.plotDAmFRETDensity(mEos4x3912bData[\"Acceptor/SSC\"], mEos4x3912bData[\"AmFRET\"], logX=True, xlims=expressionLims, ax=DAmFRETAxs[0], title=\"4x mEos3 Control\")\n",
    "# NanobodyPaperPlotting.plotDAmFRETDensity(mEos4NB6DataLowBDFP[\"Acceptor/SSC\"], mEos4NB6DataLowBDFP[\"AmFRET\"], logX=True, xlims=expressionLims, ax=DAmFRETAxs[1], title=\"4x mEos3 with 6x mEosNb (bdfp-)\")\n",
    "# NanobodyPaperPlotting.plotDAmFRETDensity(mEos4NB6DataHighBDFP[\"Acceptor/SSC\"], mEos4NB6DataHighBDFP[\"AmFRET\"], logX=True, xlims=expressionLims, ax=DAmFRETAxs[2], title=\"4x mEos3 with 6x mEosNb (BDFP+)\")\n",
    "\n",
    "# DAmFRETFig.tight_layout()\n",
    "# DAmFRETFig"
   ]
  },
  {
   "cell_type": "code",
   "execution_count": null,
   "id": "6d17fa53-2c38-4aec-bced-efe1371316ef",
   "metadata": {},
   "outputs": [],
   "source": [
    "mEos4x3912b = \"data/mEosValency/exported_plate1/A4.fcs\"\n",
    "mEos4NB6 = \"data/mEosValency/exported_plate3/D4.fcs\"\n",
    "\n",
    "DAmFRETFig = plt.Figure((3*3,3), dpi=300)\n",
    "DAmFRETAxs = DAmFRETFig.subplots(1,3, subplot_kw={'projection': \"scatter_density\"})\n",
    "\n",
    "mEos4x3912bData = NanobodyPaperPlotting.readDataFromFilelist([mEos4x3912b])\n",
    "mEos4NB6Data = NanobodyPaperPlotting.readDataFromFilelist([mEos4NB6])\n",
    "\n",
    "mEos4NB6DataHighBDFP, _ = NanobodyPaperPlotting.gateBDFP(mEos4NB6Data, \"6x mEosNb\")\n",
    "mEos4NB6DataLowBDFP, _ = NanobodyPaperPlotting.gateBDFP(mEos4NB6Data, \"Control\")\n",
    "\n",
    "NanobodyPaperPlotting.plotDAmFRETDensity(mEos4x3912bData[\"Acceptor/SSC\"], mEos4x3912bData[\"AmFRET\"], logX=True, xlims=expressionLims, ylims=AmFRETLims, ax=DAmFRETAxs[0], title=\"4x mEos3 Control\")\n",
    "NanobodyPaperPlotting.plotDAmFRETDensity(mEos4NB6DataLowBDFP[\"Acceptor/SSC\"], mEos4NB6DataLowBDFP[\"AmFRET\"], logX=True, xlims=expressionLims, ylims=AmFRETLims, ax=DAmFRETAxs[1], title=\"4x mEos3 with 6x mEosNb (bdfp-)\")\n",
    "NanobodyPaperPlotting.plotDAmFRETDensity(mEos4NB6DataHighBDFP[\"Acceptor/SSC\"], mEos4NB6DataHighBDFP[\"AmFRET\"], logX=True, xlims=expressionLims, ylims=AmFRETLims, ax=DAmFRETAxs[2], title=\"4x mEos3 with 6x mEosNb (BDFP+)\")\n",
    "\n",
    "for i in [1,2]:\n",
    "    DAmFRETAxs[i].set_xlabel(None)\n",
    "    DAmFRETAxs[i].set_ylabel(None)\n",
    "\n",
    "DAmFRETFig.tight_layout()\n",
    "DAmFRETFig.savefig(\"plots/BDFPSupplement_DAmFRET.png\")\n",
    "plt.show()\n",
    "DAmFRETFig"
   ]
  },
  {
   "cell_type": "code",
   "execution_count": null,
   "id": "d825acf7-164f-41e6-9adf-28e370fc5afe",
   "metadata": {},
   "outputs": [],
   "source": [
    "ax = sns.kdeplot(mEos4x3912bData, x=\"Acceptor/SSC\", y=\"BDFP/SSC\", fill=True, legend=False, log_scale=True, clip=(expressionLims_kde, (None,None)))\n",
    "\n",
    "defaultXLabel = \"mEos3 concentration (p.d.u.)\"\n",
    "defaultYLabel = \"BDFP1.6:1.6 concentration (p.d.u.)\"\n",
    "\n",
    "ax.set_xlabel(defaultXLabel)\n",
    "\n",
    "ax.set_ylabel(defaultYLabel)\n",
    "\n",
    "ax.set_yscale(\"symlog\")\n",
    "\n",
    "plt.show()"
   ]
  },
  {
   "cell_type": "markdown",
   "id": "7c07a71c-e1e8-43ef-b775-e4ee461cf70e",
   "metadata": {},
   "source": [
    "# AAAAAAH:\n",
    "\n",
    "sns.kdeplot does not have a symlog option (even though google's terrible search AI thinks it exists)\n",
    "\n",
    "This means that kdeplot does not have the ability to show points with negative values. This completely breaks ALL bdfp- plots!!!!!!\n",
    "\n",
    "### workarounds:\n",
    "still use kdeplot, but calculate symlog y axis beforehand and plot on a linear scale. Acceptor/SSC would still be on log scale to match DAmFRET plots.\n",
    "\n"
   ]
  },
  {
   "cell_type": "code",
   "execution_count": null,
   "id": "c7c9d71c-07e8-4fd3-9877-171ff5b90eee",
   "metadata": {},
   "outputs": [],
   "source": [
    "plt.scatter(mEos4x3912bData[\"Acceptor/SSC\"], mEos4x3912bData[\"BDFP/SSC\"], s=0.5, alpha=0.5)\n",
    "plt.xscale(\"symlog\")\n",
    "plt.yscale(\"symlog\")\n",
    "\n",
    "plt.show()"
   ]
  },
  {
   "cell_type": "code",
   "execution_count": null,
   "id": "7f602175-1f36-49ff-9631-636c5639a082",
   "metadata": {},
   "outputs": [],
   "source": [
    "#use this plot for the bdfp gating explanation\n",
    "fig = plt.Figure((2*3,3), dpi=300)\n",
    "axs = fig.subplots(1,2)\n",
    "\n",
    "\n",
    "#these values were chosen by visual inspection, and are the same as what appear in NanobodyPaperPlotting.py\n",
    "lowBDFPCutoff = 1\n",
    "highBDFPCutoff = 2\n",
    "\n",
    "axs[0].scatter(mEos4x3912bData[\"Acceptor/SSC\"], mEos4x3912bData[\"BDFP/SSC\"], s=0.5, alpha=0.2)\n",
    "axs[0].hlines([1,2], expressionLims[0], expressionLims[1], color=[\"blue\", \"red\"])\n",
    "\n",
    "axs[0].set_title(\"4x mEos3 Control\")\n",
    "\n",
    "axs[0].set_xscale(\"log\")\n",
    "axs[0].set_yscale(\"symlog\")\n",
    "axs[0].set_ylim(-3, 10**BDFPPositiveBDFPSSCLims_kde[1])\n",
    "axs[0].set_xlim(expressionLims[0], expressionLims[1])\n",
    "\n",
    "axs[0].set_xlabel(defaultXLabel)\n",
    "axs[0].set_ylabel(defaultYLabel)\n",
    "\n",
    "axs[1].scatter(mEos4NB6Data[\"Acceptor/SSC\"], mEos4NB6Data[\"BDFP/SSC\"], s=0.5, alpha=0.2)\n",
    "axs[1].hlines([lowBDFPCutoff, highBDFPCutoff], expressionLims[0], expressionLims[1], color=[\"blue\", \"red\"])\n",
    "\n",
    "axs[1].set_title(\"4x mEos3 with 6x mEosNb\")\n",
    "axs[1].set_xscale(\"log\")\n",
    "axs[1].set_yscale(\"symlog\")\n",
    "axs[1].set_ylim(-3, 10**BDFPPositiveBDFPSSCLims_kde[1])\n",
    "axs[1].set_xlim(expressionLims[0], expressionLims[1])\n",
    "\n",
    "fig.tight_layout()\n",
    "fig.savefig(\"plots/BDFPSupplement_bdfpGating.png\")\n",
    "\n",
    "fig"
   ]
  },
  {
   "cell_type": "code",
   "execution_count": null,
   "id": "9d4e2162-99c4-4d2d-8273-0742270d03df",
   "metadata": {},
   "outputs": [],
   "source": [
    "#use this plot for the bdfp gating explanation\n",
    "\n",
    "plt.scatter(mEos4NB6Data[\"Acceptor-A\"], mEos4NB6Data[\"BDFP1.6-A\"], s=0.5, alpha=0.5)\n",
    "plt.xscale(\"symlog\")\n",
    "plt.yscale(\"symlog\")\n",
    "\n",
    "plt.xlabel(\"Acceptor-A\")\n",
    "plt.ylabel(\"BDFP1.6-A (symlog scale)\")\n",
    "\n",
    "plt.show()"
   ]
  },
  {
   "cell_type": "code",
   "execution_count": null,
   "id": "15405642-bedd-4d89-92f6-b60bc9c608a1",
   "metadata": {},
   "outputs": [],
   "source": [
    "#THIS ISN'T CORRECT!\n",
    "\n",
    "BDFPTest = np.sign(mEos4NB6Data[\"BDFP/SSC\"]) * np.log10(np.abs(mEos4NB6Data[\"BDFP/SSC\"]))\n",
    "\n",
    "# plt.scatter(mEos4NB6Data[\"Acceptor/SSC\"], BDFPTest, s=0.5, alpha=0.5)\n",
    "# plt.scatter(mEos4NB6Data[\"Acceptor/SSC\"], np.log10(np.abs(mEos4NB6Data[\"BDFP/SSC\"])), s=0.5, alpha=0.5)\n",
    "# plt.scatter(mEos4NB6Data[\"BDFP/SSC\"], np.log10(np.abs(mEos4NB6Data[\"BDFP/SSC\"])), s=0.5, alpha=0.5)\n",
    "plt.scatter(mEos4NB6Data[\"BDFP/SSC\"], BDFPTest, s=0.5, alpha=0.5)\n",
    "plt.xscale(\"symlog\")\n",
    "# plt.yscale(\"symlog\")\n",
    "\n",
    "plt.show()"
   ]
  },
  {
   "cell_type": "code",
   "execution_count": null,
   "id": "bf55a890-343f-41aa-be2f-0045100f58f2",
   "metadata": {},
   "outputs": [],
   "source": [
    "#THIS ISN'T CORRECT!\n",
    "\n",
    "BDFPTest_shift = mEos4NB6Data[\"BDFP/SSC\"] + np.abs(mEos4NB6Data[\"BDFP/SSC\"].min()) + 0.00000001\n",
    "\n",
    "# plt.scatter(mEos4NB6Data[\"Acceptor/SSC\"], BDFPTest, s=0.5, alpha=0.5)\n",
    "# plt.scatter(mEos4NB6Data[\"Acceptor/SSC\"], np.log10(np.abs(mEos4NB6Data[\"BDFP/SSC\"])), s=0.5, alpha=0.5)\n",
    "plt.scatter(mEos4NB6Data[\"BDFP/SSC\"], BDFPTest_shift, s=0.5, alpha=0.5)\n",
    "plt.xscale(\"symlog\")\n",
    "plt.yscale(\"symlog\")\n",
    "\n",
    "plt.show()"
   ]
  },
  {
   "cell_type": "code",
   "execution_count": null,
   "id": "0b4f90bd-d1d5-46f3-b8c0-528b9ac75b43",
   "metadata": {},
   "outputs": [],
   "source": [
    "plt.scatter(mEos4NB6Data[\"Acceptor/SSC\"], BDFPTest_shift, s=0.5, alpha=0.5)\n",
    "plt.xscale(\"symlog\")\n",
    "plt.yscale(\"symlog\")\n",
    "\n",
    "plt.show()"
   ]
  },
  {
   "cell_type": "code",
   "execution_count": null,
   "id": "1eec6279-5cbe-4447-8c4c-a08439b39e08",
   "metadata": {},
   "outputs": [],
   "source": [
    "mEos4NB6Data[\"BDFP/SSC\"].min()"
   ]
  },
  {
   "cell_type": "code",
   "execution_count": null,
   "id": "337538d8-3d70-4a25-bd9e-4726d2aea8cd",
   "metadata": {},
   "outputs": [],
   "source": [
    "np.sign(mEos4NB6Data[\"BDFP/SSC\"])"
   ]
  },
  {
   "cell_type": "code",
   "execution_count": null,
   "id": "c104e755-ed1f-4190-a164-969755ecff5d",
   "metadata": {},
   "outputs": [],
   "source": [
    "BDFPFig = plt.Figure((2*3, 3), dpi=300)\n",
    "BDFPAxs = BDFPFig.subplots(1,2)\n",
    "\n",
    "\n",
    "NanobodyPaperPlotting.BDFPAcceptorRowFromData([(\"4x mEos3 Control\", mEos4x3912bData), (\"4x mEos3 with 6x mEosNb\", mEos4NB6Data)],BDFPAxs, \"label\", xlims=expressionLims_kde, ylims=(BDFPNegativeBDFPSSCLims_kde[0], BDFPPositiveBDFPSSCLims_kde[1]))\n",
    "\n",
    "BDFPFig.tight_layout()\n",
    "BDFPFig"
   ]
  },
  {
   "cell_type": "code",
   "execution_count": null,
   "id": "7de8946d-db3e-43d7-9ab3-9400feaba517",
   "metadata": {},
   "outputs": [],
   "source": [
    "mEos4x3912bData[\"BDFP/SSC\"].min()"
   ]
  }
 ],
 "metadata": {
  "kernelspec": {
   "display_name": "DAmFRET_clustering_env",
   "language": "python",
   "name": "damfret_clustering_env"
  },
  "language_info": {
   "codemirror_mode": {
    "name": "ipython",
    "version": 3
   },
   "file_extension": ".py",
   "mimetype": "text/x-python",
   "name": "python",
   "nbconvert_exporter": "python",
   "pygments_lexer": "ipython3",
   "version": "3.9.18"
  }
 },
 "nbformat": 4,
 "nbformat_minor": 5
}
