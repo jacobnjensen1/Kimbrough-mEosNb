{
 "cells": [
  {
   "cell_type": "code",
   "execution_count": null,
   "id": "b96328e6-74ed-4fb2-be93-2019cc48ad98",
   "metadata": {},
   "outputs": [],
   "source": [
    "import NanobodyPaperPlotting\n",
    "import matplotlib.pyplot as plt\n",
    "import fcsparser\n",
    "import numpy as np\n",
    "import seaborn as sns\n",
    "\n",
    "colors_decimal = [[120/255, 120/255, 120/255], [249/255, 29/255, 0/255], [32/255, 25/255, 250/255]]\n",
    "AmFRETLims = (-0.4, 1.0) #changed for this panel\n",
    "expressionLims = (10**0.075, 10**3) #changed for this panel"
   ]
  },
  {
   "cell_type": "code",
   "execution_count": null,
   "id": "348f6362-8afb-4657-bad0-c7dd434556c6",
   "metadata": {},
   "outputs": [],
   "source": [
    "fth1Files = [(\"FTH1 on\", [\"data/FTH1/A1.fcs\"]), \n",
    "             (\"FTH1 off\", [\"data/FTH1/D1.fcs\"])]\n",
    "\n",
    "fth1Data = []\n",
    "#I'm copying some stuff from NanobodyPaperPlotting.readDataFromFilelist here to avoid making weird BDFP messes elsewhere.\n",
    "for title, files in fth1Files:\n",
    "    _, data = fcsparser.parse(files[0]) # for fth1, there is only one file\n",
    "\n",
    "    #make both because both are useful\n",
    "    data[\"Acceptor/SSC\"] = data[\"Acceptor-A\"] / data[\"SSC 488/10-A\"]\n",
    "    data[\"log(Acceptor/SSC)\"] = np.log10(data[\"Acceptor/SSC\"])\n",
    "\n",
    "    fth1Data.append((title, data))"
   ]
  },
  {
   "cell_type": "code",
   "execution_count": null,
   "id": "3f60b3b8-ee81-4ba4-8779-7f82881f5bce",
   "metadata": {},
   "outputs": [],
   "source": [
    "squarePlotSize = 3\n",
    "numCols = 2\n",
    "numRows = 1\n",
    "\n",
    "DAmFRETFig = plt.Figure((squarePlotSize*numCols ,squarePlotSize*numRows), dpi=300)\n",
    "DAmFRETAxs = DAmFRETFig.subplots(numRows,numCols, subplot_kw={'projection': \"scatter_density\"})\n",
    "NanobodyPaperPlotting.DAmFRETRowFromData(fth1Data, DAmFRETAxs, addTitles=True, ylims=AmFRETLims, xlims=expressionLims, firstColLabelsOnly=True)\n",
    "\n",
    "DAmFRETFig.tight_layout()\n",
    "plt.show()\n",
    "DAmFRETFig.savefig(\"plots/FTH1Supplement_DAmFRET.png\")\n",
    "DAmFRETFig"
   ]
  },
  {
   "cell_type": "code",
   "execution_count": null,
   "id": "49aac42f-c202-4111-be69-139e027e065e",
   "metadata": {},
   "outputs": [],
   "source": [
    "plt.hist(fth1Data[0][1][\"AmFRET\"], bins=20, range=(-0.2, 0.5))\n",
    "plt.xlim(-0.2, 0.5)\n",
    "plt.title(fth1Data[0][0])\n",
    "plt.show()\n",
    "\n",
    "\n",
    "plt.hist(fth1Data[1][1][\"AmFRET\"], bins=20, range=(-0.2, 0.5))\n",
    "plt.xlim(-0.2, 0.5)\n",
    "plt.title(fth1Data[1][0])\n",
    "plt.show()\n"
   ]
  },
  {
   "cell_type": "code",
   "execution_count": null,
   "id": "3c8e2857-ce1a-4523-9ad2-d1bc4adec4dc",
   "metadata": {},
   "outputs": [],
   "source": [
    "ax = sns.kdeplot(y=fth1Data[1][1][\"AmFRET\"], clip=(-0.2, 1))\n",
    "sns.kdeplot(y=fth1Data[0][1][\"AmFRET\"], clip=(-0.2, 1), ax=ax)\n",
    "\n",
    "ax.legend(labels=[fth1Data[1][0], fth1Data[0][0]]) #if this plot gets used, these labels need to change because they are harder to change later\n",
    "\n",
    "# ax.hlines([0], 0, 12)\n",
    "\n",
    "plt.show()"
   ]
  }
 ],
 "metadata": {
  "kernelspec": {
   "display_name": "DAmFRET_clustering_env",
   "language": "python",
   "name": "damfret_clustering_env"
  },
  "language_info": {
   "codemirror_mode": {
    "name": "ipython",
    "version": 3
   },
   "file_extension": ".py",
   "mimetype": "text/x-python",
   "name": "python",
   "nbconvert_exporter": "python",
   "pygments_lexer": "ipython3",
   "version": "3.9.18"
  }
 },
 "nbformat": 4,
 "nbformat_minor": 5
}
